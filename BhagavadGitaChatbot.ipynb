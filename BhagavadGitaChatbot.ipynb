{
 "cells": [
  {
   "cell_type": "code",
   "execution_count": 1,
   "id": "0586f2b5-54ad-479a-a382-198e35e871cd",
   "metadata": {},
   "outputs": [
    {
     "name": "stderr",
     "output_type": "stream",
     "text": [
      "C:\\Users\\glowi\\Anaconda3\\envs\\myvenv\\Lib\\site-packages\\tqdm\\auto.py:21: TqdmWarning: IProgress not found. Please update jupyter and ipywidgets. See https://ipywidgets.readthedocs.io/en/stable/user_install.html\n",
      "  from .autonotebook import tqdm as notebook_tqdm\n"
     ]
    }
   ],
   "source": [
    "import PyPDF2\n",
    "import re\n",
    "import nltk\n",
    "from nltk.corpus import stopwords\n",
    "from nltk.stem import PorterStemmer\n",
    "from nltk.tokenize import word_tokenize\n",
    "import string\n",
    "from collections import Counter\n",
    "from sentence_transformers import SentenceTransformer, util\n",
    "from transformers import AutoTokenizer, AutoModel\n",
    "\n",
    "from sklearn.feature_extraction.text import TfidfVectorizer\n",
    "from sklearn.linear_model import LogisticRegression\n",
    "from sklearn.pipeline import Pipeline\n",
    "from sklearn.metrics import accuracy_score\n",
    "from sklearn.model_selection import train_test_split\n",
    "import numpy as np\n",
    "\n",
    "from transformers import BertTokenizer, BertForQuestionAnswering\n",
    "import torch"
   ]
  },
  {
   "cell_type": "code",
   "execution_count": 2,
   "id": "4217986a-66e1-408d-a927-c8c688d666e8",
   "metadata": {},
   "outputs": [],
   "source": [
    "def extract_text_from_pdf(pdf_path):\n",
    "    text = \"\"\n",
    "    with open(pdf_path, 'rb') as file:\n",
    "        pdf_reader = PyPDF2.PdfReader(file)\n",
    "        num_pages = len(pdf_reader.pages)\n",
    "        for page_num in range(num_pages):\n",
    "            page = pdf_reader.pages[page_num]\n",
    "            text += page.extract_text()\n",
    "    return text"
   ]
  },
  {
   "cell_type": "code",
   "execution_count": 3,
   "id": "dca777e5-77b5-4f4f-99f3-b9e2c4d3d262",
   "metadata": {},
   "outputs": [],
   "source": [
    "def preprocess_text(text):\n",
    "    # Convert text to lowercase\n",
    "    text = text.lower()\n",
    "    \n",
    "    # Remove punctuation\n",
    "    text = text.translate(str.maketrans('', '', string.punctuation))\n",
    "    \n",
    "    # Custom stop word list (excluding important concepts from Bhagavad Gita)\n",
    "    custom_stop_words = set(stopwords.words('english')) \\\n",
    "        - {'krishna', 'karma', 'dharma', 'arjuna', 'bhagavad'}  # Add more as needed\n",
    "\n",
    "    # Tokenize the text\n",
    "    tokens = word_tokenize(text)\n",
    "    \n",
    "    # Remove stop words and perform stemming\n",
    "    stemmer = PorterStemmer()\n",
    "    filtered_tokens = [stemmer.stem(word) for word in tokens if word not in custom_stop_words]\n",
    "    \n",
    "    # Join tokens back into a single string\n",
    "    preprocessed_text = ' '.join(filtered_tokens)\n",
    "    \n",
    "    return preprocessed_text\n"
   ]
  },
  {
   "cell_type": "code",
   "execution_count": 4,
   "id": "b70bb5ba-7b57-44ca-8e19-4795add986ad",
   "metadata": {},
   "outputs": [],
   "source": [
    "def divide_into_sentences(text):\n",
    "    # Split text into sentences using NLTK sentence tokenizer\n",
    "    sentences = nltk.sent_tokenize(text)\n",
    "    return sentences"
   ]
  },
  {
   "cell_type": "code",
   "execution_count": 5,
   "id": "9286030f-186a-4af0-b09b-15131fc4d25e",
   "metadata": {},
   "outputs": [],
   "source": [
    "def preprocess_input(text):\n",
    "    # Remove extra whitespaces and special characters\n",
    "    processed_text = re.sub(r'[^\\w\\s]', '', text.strip())\n",
    "    return processed_text.lower()"
   ]
  },
  {
   "cell_type": "code",
   "execution_count": 6,
   "id": "fcf21847-e3db-485a-bc78-61cccf23f3a2",
   "metadata": {},
   "outputs": [],
   "source": [
    "def identify_questions(sentences):\n",
    "    # Define a list of keywords\n",
    "    keywords = ['what', 'who', 'when', 'where', 'why', 'how', 'explain', 'describe']\n",
    "\n",
    "    # Initialize a list to store potential questions\n",
    "    potential_questions = []\n",
    "\n",
    "    # Iterate through each sentence and check for keywords\n",
    "    for sentence in sentences:\n",
    "        # Tokenize the sentence to check the first word\n",
    "        first_word = sentence.split()[0].lower()\n",
    "        # Check if the first word of the sentence is a keyword\n",
    "        if first_word in keywords:\n",
    "            potential_questions.append(sentence)\n",
    "\n",
    "    return potential_questions\n"
   ]
  },
  {
   "cell_type": "code",
   "execution_count": 7,
   "id": "5290346c-c6f6-4d35-9ed8-6a517f1c8f4d",
   "metadata": {},
   "outputs": [],
   "source": [
    "def compute_tfidf_vectors(texts):\n",
    "    vectorizer = TfidfVectorizer()\n",
    "    tfidf_matrix = vectorizer.fit_transform(texts)\n",
    "    return tfidf_matrix, vectorizer"
   ]
  },
  {
   "cell_type": "code",
   "execution_count": 8,
   "id": "c76fb281-e3d5-4aa7-8545-4aee97155c79",
   "metadata": {},
   "outputs": [],
   "source": [
    "def weighted_cosine_similarity(query_vector, document_vectors, query_weights):\n",
    "    # Compute dot product between query vector and document vectors\n",
    "    dot_products = np.dot(query_vector * query_weights, document_vectors.T)\n",
    "\n",
    "    # Compute L2 norm of query vector\n",
    "    query_norm = np.linalg.norm(query_vector * query_weights)\n",
    "\n",
    "    # Check if document vectors are empty or have zero dimensions\n",
    "    if document_vectors.ndim > 1 and document_vectors.shape[0] > 0:\n",
    "        # Compute L2 norm of document vectors\n",
    "        document_norms = np.linalg.norm(document_vectors, axis=1)\n",
    "    else:\n",
    "        # If document vectors are empty, set document norms to zeros\n",
    "        document_norms = np.zeros(1)\n",
    "\n",
    "    # Compute cosine similarity scores\n",
    "    cosine_similarities = dot_products / (query_norm * (document_norms + 1e-9))\n",
    "\n",
    "    return cosine_similarities"
   ]
  },
  {
   "cell_type": "code",
   "execution_count": 9,
   "id": "66be7b0f-91f2-466a-984b-5ed0f9ee5b66",
   "metadata": {},
   "outputs": [],
   "source": [
    "def search_answers(question, preprocessed_text, min_word_count=4, max_answer_length=100, use_dot_product=False, top_k=3):\n",
    "    # Preprocess the question\n",
    "    preprocessed_question = preprocess_input(question)\n",
    "\n",
    "    # Compute TF-IDF vectors\n",
    "    sentence_list = preprocessed_text.split('.')  # Split preprocessed text into sentences\n",
    "    tfidf_matrix, vectorizer = compute_tfidf_vectors([preprocessed_question] + sentence_list)\n",
    "    query_vector = tfidf_matrix[0]\n",
    "    document_vectors = tfidf_matrix[1:]\n",
    "\n",
    "    # Check if document vectors are empty or have zero dimensions\n",
    "    if document_vectors.ndim > 1 and document_vectors.shape[0] > 0:\n",
    "        # Candidate answers based on word count threshold\n",
    "        candidate_answers = []\n",
    "        for i, sentence in enumerate(sentence_list):\n",
    "            if len(sentence.split()) >= min_word_count:\n",
    "                if use_dot_product:\n",
    "                    # Option 1: Use dot product for similarity (without dimensionality reduction)\n",
    "                    similarity = np.dot(query_vector, document_vectors[i])\n",
    "                else:\n",
    "                    # Option 2: No similarity calculation, filter by word count only\n",
    "                    similarity = 1  # Placeholder value since not used for filtering\n",
    "                candidate_answers.append((sentence, similarity))\n",
    "        \n",
    "        # Return limited answer snippets (sorted by similarity for option 1)\n",
    "        if use_dot_product:\n",
    "            candidate_answers.sort(key=lambda x: x[1], reverse=True)  # Sort by descending similarity\n",
    "        \n",
    "        # Select top-k answers\n",
    "        top_answers = candidate_answers[:top_k]\n",
    "        \n",
    "        answers = []\n",
    "        for sentence, _ in top_answers:\n",
    "            # Limit answer length to max_answer_length words and add ellipsis (...) if truncated\n",
    "            answer_snippet = sentence.strip()[:max_answer_length] + \"...\" if len(sentence) > max_answer_length else sentence.strip()\n",
    "            # Ensure that the answer is limited to a single sentence\n",
    "            answer_snippet = answer_snippet.split('.')[0]  # Take the first sentence\n",
    "            answers.append(answer_snippet)\n",
    "    else:\n",
    "        answers = [\"I couldn't find a direct answer to your question in the Bhagavad Gita.\"]\n",
    "    \n",
    "    return answers\n"
   ]
  },
  {
   "cell_type": "code",
   "execution_count": 10,
   "id": "f4d0b959-fa85-4101-ac3e-54e7a55f7954",
   "metadata": {},
   "outputs": [],
   "source": [
    "def generate_response(user_input, sentences, preprocessed_text):\n",
    "    # Preprocess user input\n",
    "    preprocessed_input = preprocess_input(user_input)\n",
    "\n",
    "    # Generate response\n",
    "    if preprocessed_input.lower() == 'exit':\n",
    "        response = \"Thank you for chatting with the Bhagavad Gita Chatbot. Farewell!\"\n",
    "    else:\n",
    "        # Identify potential questions in user input\n",
    "        questions = identify_questions(sentences)\n",
    "        if questions:\n",
    "            # Attempt to answer the first identified question\n",
    "            answer = search_answers(questions[0], preprocessed_text)\n",
    "            response = f\"Here's what I found about {questions[0]} in the Bhagavad Gita:\\n {answer}\"\n",
    "        else:\n",
    "            response = \"I couldn't find any questions in your input. However, feel free to ask me anything about the Bhagavad Gita!\"\n",
    "\n",
    "    return response\n"
   ]
  },
  {
   "cell_type": "code",
   "execution_count": 11,
   "id": "2680614c-dae8-4cd2-a4aa-26bd5c81d10e",
   "metadata": {},
   "outputs": [],
   "source": [
    "def chatbot():\n",
    "    print(\"Welcome to the Bhagavad Gita Chatbot!\")\n",
    "    print(\"You can ask me anything about the Bhagavad Gita, and I'll do my best to find answers within the text or identify potential questions in your input.\")\n",
    "    print(\"Type 'exit' to end the conversation.\")\n",
    "    \n",
    "    pdf_path = 'Bhagavad Gita.pdf'\n",
    "    text = extract_text_from_pdf(pdf_path)\n",
    "    preprocessed_text = preprocess_text(text)\n",
    "    sentences = nltk.sent_tokenize(text)\n",
    "\n",
    "    while True:\n",
    "        user_input = input(\"\\nYou: \").strip()\n",
    "\n",
    "        # Generate response\n",
    "        response = generate_response(user_input, sentences, preprocessed_text)\n",
    "        print(\"\\nBhagavad Gita Chatbot:\", response)\n",
    "\n",
    "        # Check if the user wants to exit\n",
    "        if response.lower() == \"thank you for chatting with the bhagavad gita chatbot. farewell!\":\n",
    "            break\n"
   ]
  },
  {
   "cell_type": "code",
   "execution_count": 12,
   "id": "cd5bc4df-7c8b-4ce2-bdab-1d8c7109e72e",
   "metadata": {},
   "outputs": [
    {
     "name": "stdout",
     "output_type": "stream",
     "text": [
      "Welcome to the Bhagavad Gita Chatbot!\n",
      "You can ask me anything about the Bhagavad Gita, and I'll do my best to find answers within the text or identify potential questions in your input.\n",
      "Type 'exit' to end the conversation.\n"
     ]
    },
    {
     "name": "stdin",
     "output_type": "stream",
     "text": [
      "\n",
      "You:  who is krishna\n"
     ]
    },
    {
     "name": "stdout",
     "output_type": "stream",
     "text": [
      "\n",
      "Bhagavad Gita Chatbot: Here's what I found about Why\tit\tshould\tbe\tso\tappealing\tto\tthe\tWestern\tmind\n",
      "is\tan\tinteresting\tquestion. in the Bhagavad Gita:\n",
      " ['free download ebook direct reproduct origin bona fide person approv bless srila prabhupada ebook mad']\n"
     ]
    },
    {
     "name": "stdin",
     "output_type": "stream",
     "text": [
      "\n",
      "You:  a\n"
     ]
    },
    {
     "name": "stdout",
     "output_type": "stream",
     "text": [
      "\n",
      "Bhagavad Gita Chatbot: Here's what I found about Why\tit\tshould\tbe\tso\tappealing\tto\tthe\tWestern\tmind\n",
      "is\tan\tinteresting\tquestion. in the Bhagavad Gita:\n",
      " ['free download ebook direct reproduct origin bona fide person approv bless srila prabhupada ebook mad']\n"
     ]
    },
    {
     "name": "stdin",
     "output_type": "stream",
     "text": [
      "\n",
      "You:  a\n"
     ]
    },
    {
     "name": "stdout",
     "output_type": "stream",
     "text": [
      "\n",
      "Bhagavad Gita Chatbot: Here's what I found about Why\tit\tshould\tbe\tso\tappealing\tto\tthe\tWestern\tmind\n",
      "is\tan\tinteresting\tquestion. in the Bhagavad Gita:\n",
      " ['free download ebook direct reproduct origin bona fide person approv bless srila prabhupada ebook mad']\n"
     ]
    },
    {
     "name": "stdin",
     "output_type": "stream",
     "text": [
      "\n",
      "You:  \n"
     ]
    },
    {
     "name": "stdout",
     "output_type": "stream",
     "text": [
      "\n",
      "Bhagavad Gita Chatbot: Here's what I found about Why\tit\tshould\tbe\tso\tappealing\tto\tthe\tWestern\tmind\n",
      "is\tan\tinteresting\tquestion. in the Bhagavad Gita:\n",
      " ['free download ebook direct reproduct origin bona fide person approv bless srila prabhupada ebook mad']\n"
     ]
    },
    {
     "name": "stdin",
     "output_type": "stream",
     "text": [
      "\n",
      "You:  ss\n"
     ]
    },
    {
     "name": "stdout",
     "output_type": "stream",
     "text": [
      "\n",
      "Bhagavad Gita Chatbot: Here's what I found about Why\tit\tshould\tbe\tso\tappealing\tto\tthe\tWestern\tmind\n",
      "is\tan\tinteresting\tquestion. in the Bhagavad Gita:\n",
      " ['free download ebook direct reproduct origin bona fide person approv bless srila prabhupada ebook mad']\n"
     ]
    },
    {
     "name": "stdin",
     "output_type": "stream",
     "text": [
      "\n",
      "You:  \n"
     ]
    },
    {
     "name": "stdout",
     "output_type": "stream",
     "text": [
      "\n",
      "Bhagavad Gita Chatbot: Here's what I found about Why\tit\tshould\tbe\tso\tappealing\tto\tthe\tWestern\tmind\n",
      "is\tan\tinteresting\tquestion. in the Bhagavad Gita:\n",
      " ['free download ebook direct reproduct origin bona fide person approv bless srila prabhupada ebook mad']\n"
     ]
    },
    {
     "name": "stdin",
     "output_type": "stream",
     "text": [
      "\n",
      "You:  \n"
     ]
    },
    {
     "name": "stdout",
     "output_type": "stream",
     "text": [
      "\n",
      "Bhagavad Gita Chatbot: Here's what I found about Why\tit\tshould\tbe\tso\tappealing\tto\tthe\tWestern\tmind\n",
      "is\tan\tinteresting\tquestion. in the Bhagavad Gita:\n",
      " ['free download ebook direct reproduct origin bona fide person approv bless srila prabhupada ebook mad']\n"
     ]
    },
    {
     "name": "stdin",
     "output_type": "stream",
     "text": [
      "\n",
      "You:  \n"
     ]
    },
    {
     "name": "stdout",
     "output_type": "stream",
     "text": [
      "\n",
      "Bhagavad Gita Chatbot: Here's what I found about Why\tit\tshould\tbe\tso\tappealing\tto\tthe\tWestern\tmind\n",
      "is\tan\tinteresting\tquestion. in the Bhagavad Gita:\n",
      " ['free download ebook direct reproduct origin bona fide person approv bless srila prabhupada ebook mad']\n"
     ]
    },
    {
     "name": "stdin",
     "output_type": "stream",
     "text": [
      "\n",
      "You:  \n"
     ]
    },
    {
     "name": "stdout",
     "output_type": "stream",
     "text": [
      "\n",
      "Bhagavad Gita Chatbot: Here's what I found about Why\tit\tshould\tbe\tso\tappealing\tto\tthe\tWestern\tmind\n",
      "is\tan\tinteresting\tquestion. in the Bhagavad Gita:\n",
      " ['free download ebook direct reproduct origin bona fide person approv bless srila prabhupada ebook mad']\n"
     ]
    },
    {
     "name": "stdin",
     "output_type": "stream",
     "text": [
      "\n",
      "You:  \n"
     ]
    },
    {
     "name": "stdout",
     "output_type": "stream",
     "text": [
      "\n",
      "Bhagavad Gita Chatbot: Here's what I found about Why\tit\tshould\tbe\tso\tappealing\tto\tthe\tWestern\tmind\n",
      "is\tan\tinteresting\tquestion. in the Bhagavad Gita:\n",
      " ['free download ebook direct reproduct origin bona fide person approv bless srila prabhupada ebook mad']\n"
     ]
    },
    {
     "name": "stdin",
     "output_type": "stream",
     "text": [
      "\n",
      "You:  \n"
     ]
    },
    {
     "name": "stdout",
     "output_type": "stream",
     "text": [
      "\n",
      "Bhagavad Gita Chatbot: Here's what I found about Why\tit\tshould\tbe\tso\tappealing\tto\tthe\tWestern\tmind\n",
      "is\tan\tinteresting\tquestion. in the Bhagavad Gita:\n",
      " ['free download ebook direct reproduct origin bona fide person approv bless srila prabhupada ebook mad']\n"
     ]
    },
    {
     "name": "stdin",
     "output_type": "stream",
     "text": [
      "\n",
      "You:  \n",
      "\n",
      "You:  \n"
     ]
    },
    {
     "name": "stdout",
     "output_type": "stream",
     "text": [
      "\n",
      "Bhagavad Gita Chatbot: Here's what I found about Why\tit\tshould\tbe\tso\tappealing\tto\tthe\tWestern\tmind\n",
      "is\tan\tinteresting\tquestion. in the Bhagavad Gita:\n",
      " ['free download ebook direct reproduct origin bona fide person approv bless srila prabhupada ebook mad']\n",
      "\n",
      "Bhagavad Gita Chatbot: Here's what I found about Why\tit\tshould\tbe\tso\tappealing\tto\tthe\tWestern\tmind\n",
      "is\tan\tinteresting\tquestion. in the Bhagavad Gita:\n",
      " ['free download ebook direct reproduct origin bona fide person approv bless srila prabhupada ebook mad']\n"
     ]
    },
    {
     "name": "stdin",
     "output_type": "stream",
     "text": [
      "\n",
      "You:  s\n"
     ]
    },
    {
     "name": "stdout",
     "output_type": "stream",
     "text": [
      "\n",
      "Bhagavad Gita Chatbot: Here's what I found about Why\tit\tshould\tbe\tso\tappealing\tto\tthe\tWestern\tmind\n",
      "is\tan\tinteresting\tquestion. in the Bhagavad Gita:\n",
      " ['free download ebook direct reproduct origin bona fide person approv bless srila prabhupada ebook mad']\n"
     ]
    },
    {
     "name": "stdin",
     "output_type": "stream",
     "text": [
      "\n",
      "You:  \n"
     ]
    },
    {
     "name": "stdout",
     "output_type": "stream",
     "text": [
      "\n",
      "Bhagavad Gita Chatbot: Here's what I found about Why\tit\tshould\tbe\tso\tappealing\tto\tthe\tWestern\tmind\n",
      "is\tan\tinteresting\tquestion. in the Bhagavad Gita:\n",
      " ['free download ebook direct reproduct origin bona fide person approv bless srila prabhupada ebook mad']\n"
     ]
    },
    {
     "name": "stdin",
     "output_type": "stream",
     "text": [
      "\n",
      "You:  \n"
     ]
    },
    {
     "name": "stdout",
     "output_type": "stream",
     "text": [
      "\n",
      "Bhagavad Gita Chatbot: Here's what I found about Why\tit\tshould\tbe\tso\tappealing\tto\tthe\tWestern\tmind\n",
      "is\tan\tinteresting\tquestion. in the Bhagavad Gita:\n",
      " ['free download ebook direct reproduct origin bona fide person approv bless srila prabhupada ebook mad']\n"
     ]
    },
    {
     "name": "stdin",
     "output_type": "stream",
     "text": [
      "\n",
      "You:  \n"
     ]
    },
    {
     "name": "stdout",
     "output_type": "stream",
     "text": [
      "\n",
      "Bhagavad Gita Chatbot: Here's what I found about Why\tit\tshould\tbe\tso\tappealing\tto\tthe\tWestern\tmind\n",
      "is\tan\tinteresting\tquestion. in the Bhagavad Gita:\n",
      " ['free download ebook direct reproduct origin bona fide person approv bless srila prabhupada ebook mad']\n"
     ]
    },
    {
     "name": "stdin",
     "output_type": "stream",
     "text": [
      "\n",
      "You:  \n"
     ]
    },
    {
     "name": "stdout",
     "output_type": "stream",
     "text": [
      "\n",
      "Bhagavad Gita Chatbot: Here's what I found about Why\tit\tshould\tbe\tso\tappealing\tto\tthe\tWestern\tmind\n",
      "is\tan\tinteresting\tquestion. in the Bhagavad Gita:\n",
      " ['free download ebook direct reproduct origin bona fide person approv bless srila prabhupada ebook mad']\n"
     ]
    },
    {
     "name": "stdin",
     "output_type": "stream",
     "text": [
      "\n",
      "You:  \n"
     ]
    },
    {
     "name": "stdout",
     "output_type": "stream",
     "text": [
      "\n",
      "Bhagavad Gita Chatbot: Here's what I found about Why\tit\tshould\tbe\tso\tappealing\tto\tthe\tWestern\tmind\n",
      "is\tan\tinteresting\tquestion. in the Bhagavad Gita:\n",
      " ['free download ebook direct reproduct origin bona fide person approv bless srila prabhupada ebook mad']\n"
     ]
    },
    {
     "name": "stdin",
     "output_type": "stream",
     "text": [
      "\n",
      "You:  \n"
     ]
    },
    {
     "name": "stdout",
     "output_type": "stream",
     "text": [
      "\n",
      "Bhagavad Gita Chatbot: Here's what I found about Why\tit\tshould\tbe\tso\tappealing\tto\tthe\tWestern\tmind\n",
      "is\tan\tinteresting\tquestion. in the Bhagavad Gita:\n",
      " ['free download ebook direct reproduct origin bona fide person approv bless srila prabhupada ebook mad']\n"
     ]
    },
    {
     "name": "stdin",
     "output_type": "stream",
     "text": [
      "\n",
      "You:  \n"
     ]
    },
    {
     "name": "stdout",
     "output_type": "stream",
     "text": [
      "\n",
      "Bhagavad Gita Chatbot: Here's what I found about Why\tit\tshould\tbe\tso\tappealing\tto\tthe\tWestern\tmind\n",
      "is\tan\tinteresting\tquestion. in the Bhagavad Gita:\n",
      " ['free download ebook direct reproduct origin bona fide person approv bless srila prabhupada ebook mad']\n"
     ]
    },
    {
     "name": "stderr",
     "output_type": "stream",
     "text": [
      "\n",
      "KeyboardInterrupt\n",
      "\n"
     ]
    }
   ],
   "source": [
    "# Run the chatbot\n",
    "if __name__ == \"__main__\":\n",
    "    chatbot()"
   ]
  },
  {
   "cell_type": "code",
   "execution_count": null,
   "id": "b826c22b-51df-429f-84b5-68d4ee4ba3a3",
   "metadata": {},
   "outputs": [],
   "source": []
  }
 ],
 "metadata": {
  "kernelspec": {
   "display_name": "python_3.12.3",
   "language": "python",
   "name": "python_3.12.3"
  },
  "language_info": {
   "codemirror_mode": {
    "name": "ipython",
    "version": 3
   },
   "file_extension": ".py",
   "mimetype": "text/x-python",
   "name": "python",
   "nbconvert_exporter": "python",
   "pygments_lexer": "ipython3",
   "version": "3.12.3"
  }
 },
 "nbformat": 4,
 "nbformat_minor": 5
}
